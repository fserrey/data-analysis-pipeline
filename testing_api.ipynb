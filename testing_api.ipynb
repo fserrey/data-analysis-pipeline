{
 "cells": [
  {
   "cell_type": "code",
   "execution_count": null,
   "metadata": {},
   "outputs": [],
   "source": [
    "import pandas as pd\n",
    "import numpy as np"
   ]
  },
  {
   "cell_type": "code",
   "execution_count": null,
   "metadata": {},
   "outputs": [],
   "source": [
    "import json\n",
    "import requests as r\n",
    "import os\n",
    "from dotenv import load_dotenv\n",
    "load_dotenv()\n",
    "import getpass\n",
    "\n",
    "\"\"\"\n",
    "if not \"ide\" in os.environ:\n",
    "    raise ValueError(\"You should have an id\")\n",
    "\n",
    "ide = os.environ[\"ide\"]\n",
    "\"\"\""
   ]
  },
  {
   "cell_type": "code",
   "execution_count": null,
   "metadata": {},
   "outputs": [],
   "source": [
    "\"\"\"repo = \"ironhack-datalabs/madrid-oct-2018\"\n",
    "forks = \"http://api.github.com/repos/\" + repo + \"/forks\"\n",
    "\n",
    "headers = {\n",
    "    \"Authorization\": \"token {}\".format(GITHUB_TOKEN) \n",
    "}\n",
    "\"\"\"\n",
    "user = \"fserrey/\"\n",
    "login = \"*********/\"\n",
    "\n",
    "test = r.get(\"https://openapi.emtmadrid.es/v1/\")\n",
    "\n",
    "test"
   ]
  },
  {
   "cell_type": "code",
   "execution_count": null,
   "metadata": {},
   "outputs": [],
   "source": [
    "import requests\n",
    "import getpass\n",
    "\n",
    "\n",
    "url = \"https://openapi.emtmadrid.es/v1/mobilitylabs/user/login/\"\n",
    "\n",
    "compr = \"0S\"\n",
    "\n",
    "email = getpass.getpass(\"email: \")\n",
    "passwd = getpass.getpass(\"Password: \")\n",
    "\n",
    "headers = {\n",
    "    'email': email,\n",
    "    'password': passwd\n",
    "    }\n",
    "print(\"Waiting connection...\")\n",
    "\n",
    "response = requests.request(\"GET\", url, headers=headers)\n",
    "\n",
    "if(response.text[10] == compr[0]):\n",
    "    print(\"Correct connection:\")\n",
    "    print(\"Email: \" + email)\n",
    "    print(\"Password: \" + passwd)\n",
    "else:\n",
    "    print(\"Error in the  Email: \" + email + \" or password \")\n",
    "\n",
    "print(response.text)\n"
   ]
  },
  {
   "cell_type": "code",
   "execution_count": null,
   "metadata": {},
   "outputs": [],
   "source": [
    "test"
   ]
  },
  {
   "cell_type": "code",
   "execution_count": null,
   "metadata": {},
   "outputs": [],
   "source": []
  },
  {
   "cell_type": "code",
   "execution_count": null,
   "metadata": {},
   "outputs": [],
   "source": [
    "import requests\n",
    "\n",
    "url = \"https://openapi.emtmadrid.es/v1/mobilitylabs/user/login/\"\n",
    "\n",
    "headers = {\n",
    "    'email': getpass.getpass(\"email: \"),\n",
    "    'password': getpass.getpass(\"Password: \")\n",
    "    }\n",
    "\n",
    "response = requests.request(\"GET\", url, headers=headers)\n",
    "\n",
    "print(response.text)\n"
   ]
  },
  {
   "cell_type": "code",
   "execution_count": null,
   "metadata": {},
   "outputs": [],
   "source": [
    "test2 = requests.get(\"https://openapi.emtmadrid.es/v1/hello/\")\n",
    "test2"
   ]
  },
  {
   "cell_type": "code",
   "execution_count": null,
   "metadata": {},
   "outputs": [],
   "source": [
    "pd.bici = requests.get(\"https://openapi.emtmadrid.es/v1/transport/bicimad/stations/\")"
   ]
  },
  {
   "cell_type": "code",
   "execution_count": null,
   "metadata": {},
   "outputs": [],
   "source": [
    "bici\n"
   ]
  },
  {
   "cell_type": "code",
   "execution_count": null,
   "metadata": {},
   "outputs": [],
   "source": [
    "bici.json()"
   ]
  },
  {
   "cell_type": "code",
   "execution_count": null,
   "metadata": {},
   "outputs": [],
   "source": [
    "import requests\n",
    "import json\n",
    "\n",
    "\n",
    "#getting a valid token\n",
    "\n",
    "url = \"https://openapi.emtmadrid.es/v1/mobilitylabs/user/login/\"\n",
    "\n",
    "headers = {\n",
    "    'email': getpass.getpass(\"email: \"),\n",
    "    'password': getpass.getpass(\"Password: \")\n",
    "    }\n",
    "\n",
    "response = requests.request(\"GET\", url, headers=headers)\n",
    "\n",
    "valid_token=json.loads(response.text)[\"data\"][0][\"accessToken\"]\n",
    "\n",
    "url = \"https://openapi.emtmadrid.es/v1/mobilitylabs/discover/categories/\"\n",
    "\n",
    "headers = {\n",
    "    'accesstoken': valid_token\n",
    "\n",
    "    }\n",
    "\n",
    "response = requests.request(\"GET\", url, headers=headers)\n",
    "\n",
    "print(response.text)\n",
    "#for this example, we can see the CD_SUBCATEGORY = 7 is the NO2 SENSORS COLLECTION\n"
   ]
  },
  {
   "cell_type": "code",
   "execution_count": null,
   "metadata": {},
   "outputs": [],
   "source": [
    "response.json()"
   ]
  },
  {
   "cell_type": "code",
   "execution_count": null,
   "metadata": {},
   "outputs": [],
   "source": [
    "url = \"https://openapi.emtmadrid.es/v1/mobilitylabs/discover/collections/7/\"\n",
    "headers = {\n",
    "    'accesstoken': valid_token\n",
    "\n",
    "    }\n",
    "\n",
    "response = requests.request(\"GET\", url, headers=headers)\n",
    "response.json()"
   ]
  },
  {
   "cell_type": "code",
   "execution_count": null,
   "metadata": {},
   "outputs": [],
   "source": [
    "from pandas.io.json import json_normalize\n",
    "url = \"https://openapi.emtmadrid.es/v1/mobilitylabs/collection/reactive/964B4D59-A09A-4A71-8CF8-FDF219154278/1/\"\n",
    "#Case payload empty\n",
    "payload = \"{ }\"\n",
    "headers = {\n",
    "    'accesstoken': valid_token\n",
    "    }\n",
    "\n",
    "response = requests.request(\"POST\", url, data=payload, headers=headers)\n",
    "\n",
    "type(response.json())\n",
    "\n",
    "\n",
    "df = response.read()\n",
    "data = json.loads(df)\n",
    "json_normalize(data['results'])"
   ]
  },
  {
   "cell_type": "code",
   "execution_count": null,
   "metadata": {},
   "outputs": [],
   "source": [
    "type(df)\n",
    "import pandas as pd\n",
    "from pandas.io.json import json_normalize\n",
    "json_normalize(df)\n"
   ]
  },
  {
   "cell_type": "code",
   "execution_count": null,
   "metadata": {},
   "outputs": [],
   "source": [
    "data = pd.DataFrame.from_dict(df, orient='columns')"
   ]
  },
  {
   "cell_type": "code",
   "execution_count": null,
   "metadata": {},
   "outputs": [],
   "source": [
    "data"
   ]
  },
  {
   "cell_type": "code",
   "execution_count": null,
   "metadata": {},
   "outputs": [],
   "source": [
    "url = \"https://openapi.emtmadrid.es/v1/mobilitylabs/user/login/\"\n",
    "\n",
    "headers = {\n",
    "    'email': getpass.getpass(\"email: \"),\n",
    "    'password': getpass.getpass(\"Password: \")\n",
    "    }\n",
    "\n",
    "response = requests.request(\"GET\", url, headers=headers)\n",
    "\n",
    "valid_token=json.loads(response.text)[\"data\"][0][\"accessToken\"]\n",
    "\n",
    "url = \"https://openapi.emtmadrid.es/v1/mobilitylabs/discover/categories/\"\n",
    "\n",
    "headers = {\n",
    "    'accesstoken': valid_token\n",
    "\n",
    "    }\n",
    "\n",
    "response = requests.request(\"GET\", url, headers=headers)\n"
   ]
  },
  {
   "cell_type": "code",
   "execution_count": null,
   "metadata": {},
   "outputs": [],
   "source": [
    "url = \"https://openapi.emtmadrid.es/v1/mobilitylabs/discover/collections/'SENSORES NO2 MADRID'/\"\n",
    "#Case payload empty\n",
    "payload = \"{ }\"\n",
    "headers = {\n",
    "    'accesstoken': valid_token\n",
    "    }\n",
    "\n",
    "response = requests.request(\"POST\", url, data=payload, headers=headers)\n",
    "\n",
    "\n"
   ]
  },
  {
   "cell_type": "code",
   "execution_count": null,
   "metadata": {},
   "outputs": [],
   "source": [
    "response"
   ]
  },
  {
   "cell_type": "code",
   "execution_count": null,
   "metadata": {},
   "outputs": [],
   "source": []
  }
 ],
 "metadata": {
  "kernelspec": {
   "display_name": "Python 3",
   "language": "python",
   "name": "python3"
  },
  "language_info": {
   "codemirror_mode": {
    "name": "ipython",
    "version": 3
   },
   "file_extension": ".py",
   "mimetype": "text/x-python",
   "name": "python",
   "nbconvert_exporter": "python",
   "pygments_lexer": "ipython3",
   "version": "3.6.7"
  }
 },
 "nbformat": 4,
 "nbformat_minor": 2
}
